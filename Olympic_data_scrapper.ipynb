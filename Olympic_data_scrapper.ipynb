{
 "cells": [
  {
   "cell_type": "code",
   "execution_count": 1,
   "metadata": {},
   "outputs": [],
   "source": [
    "import requests\n",
    "import pandas as pd\n",
    "import numpy as np\n",
    "\n",
    "import time\n",
    "import sys\n",
    "\n",
    "import requests\n",
    "from bs4 import BeautifulSoup"
   ]
  },
  {
   "cell_type": "code",
   "execution_count": 15,
   "metadata": {},
   "outputs": [
    {
     "data": {
      "text/plain": [
       "2700"
      ]
     },
     "execution_count": 15,
     "metadata": {},
     "output_type": "execute_result"
    }
   ],
   "source": [
    "9 * 300"
   ]
  },
  {
   "cell_type": "code",
   "execution_count": 42,
   "metadata": {},
   "outputs": [],
   "source": [
    "olympics = ['rio-2016', 'london-2012', 'beijing-2008', 'athens-2004', 'sydney-2000', 'atlanta-1996', 'barcelona-1992', 'seoul-1988', 'los-angeles-1984', 'moscow-1980',\n",
    "           'montreal-1976', 'munich-1972', 'mexico-city-1968', 'tokyo-1964', 'roma-1960', 'melbourne-1956', 'helsinki-1952', 'london-1948', 'berlin-1936', 'los-angeles-1932',\n",
    "           'amsterdam-1928', 'paris-1924', 'antwerp-1920', 'stockholm-1912', 'london-1908', 'st-louis-1904', 'paris-1900', 'athens-1896']\n",
    "\n",
    "gender = ['men', 'women']"
   ]
  },
  {
   "cell_type": "code",
   "execution_count": 43,
   "metadata": {},
   "outputs": [],
   "source": [
    "df = pd.DataFrame()"
   ]
  },
  {
   "cell_type": "code",
   "execution_count": 44,
   "metadata": {
    "collapsed": true,
    "jupyter": {
     "outputs_hidden": true
    },
    "tags": []
   },
   "outputs": [
    {
     "name": "stdout",
     "output_type": "stream",
     "text": [
      "rio-2016 : men\n",
      "done with : rio-2016 : men\n",
      "rio-2016 : women\n",
      "done with : rio-2016 : women\n",
      "london-2012 : men\n",
      "done with : london-2012 : men\n",
      "london-2012 : women\n",
      "done with : london-2012 : women\n",
      "beijing-2008 : men\n",
      "done with : beijing-2008 : men\n",
      "beijing-2008 : women\n",
      "done with : beijing-2008 : women\n",
      "athens-2004 : men\n",
      "done with : athens-2004 : men\n",
      "athens-2004 : women\n",
      "done with : athens-2004 : women\n",
      "sydney-2000 : men\n",
      "done with : sydney-2000 : men\n",
      "sydney-2000 : women\n",
      "done with : sydney-2000 : women\n",
      "atlanta-1996 : men\n",
      "done with : atlanta-1996 : men\n",
      "atlanta-1996 : women\n",
      "done with : atlanta-1996 : women\n",
      "barcelona-1992 : men\n",
      "done with : barcelona-1992 : men\n",
      "barcelona-1992 : women\n",
      "done with : barcelona-1992 : women\n",
      "seoul-1988 : men\n",
      "done with : seoul-1988 : men\n",
      "seoul-1988 : women\n",
      "done with : seoul-1988 : women\n",
      "los-angeles-1984 : men\n",
      "done with : los-angeles-1984 : men\n",
      "los-angeles-1984 : women\n",
      "done with : los-angeles-1984 : women\n",
      "moscow-1980 : men\n",
      "done with : moscow-1980 : men\n",
      "moscow-1980 : women\n",
      "moscow-1980 :women // request code:404\n",
      "montreal-1976 : men\n",
      "done with : montreal-1976 : men\n",
      "montreal-1976 : women\n",
      "montreal-1976 :women // request code:404\n",
      "munich-1972 : men\n",
      "done with : munich-1972 : men\n",
      "munich-1972 : women\n",
      "munich-1972 :women // request code:404\n",
      "mexico-city-1968 : men\n",
      "done with : mexico-city-1968 : men\n",
      "mexico-city-1968 : women\n",
      "mexico-city-1968 :women // request code:404\n",
      "tokyo-1964 : men\n",
      "done with : tokyo-1964 : men\n",
      "tokyo-1964 : women\n",
      "tokyo-1964 :women // request code:404\n",
      "roma-1960 : men\n",
      "roma-1960 :men // request code:404\n",
      "roma-1960 : women\n",
      "roma-1960 :women // request code:404\n",
      "melbourne-1956 : men\n",
      "done with : melbourne-1956 : men\n",
      "melbourne-1956 : women\n",
      "melbourne-1956 :women // request code:404\n",
      "helsinki-1952 : men\n",
      "done with : helsinki-1952 : men\n",
      "helsinki-1952 : women\n",
      "helsinki-1952 :women // request code:404\n",
      "london-1948 : men\n",
      "done with : london-1948 : men\n",
      "london-1948 : women\n",
      "london-1948 :women // request code:404\n",
      "berlin-1936 : men\n",
      "done with : berlin-1936 : men\n",
      "berlin-1936 : women\n",
      "berlin-1936 :women // request code:404\n",
      "los-angeles-1932 : men\n",
      "done with : los-angeles-1932 : men\n",
      "los-angeles-1932 : women\n",
      "los-angeles-1932 :women // request code:404\n",
      "amsterdam-1928 : men\n",
      "done with : amsterdam-1928 : men\n",
      "amsterdam-1928 : women\n",
      "amsterdam-1928 :women // request code:404\n",
      "paris-1924 : men\n",
      "done with : paris-1924 : men\n",
      "paris-1924 : women\n",
      "paris-1924 :women // request code:404\n",
      "antwerp-1920 : men\n",
      "done with : antwerp-1920 : men\n",
      "antwerp-1920 : women\n",
      "antwerp-1920 :women // request code:404\n",
      "stockholm-1912 : men\n",
      "done with : stockholm-1912 : men\n",
      "stockholm-1912 : women\n",
      "stockholm-1912 :women // request code:404\n",
      "london-1908 : men\n",
      "done with : london-1908 : men\n",
      "london-1908 : women\n",
      "london-1908 :women // request code:404\n",
      "st-louis-1904 : men\n",
      "done with : st-louis-1904 : men\n",
      "st-louis-1904 : women\n",
      "st-louis-1904 :women // request code:404\n",
      "paris-1900 : men\n",
      "done with : paris-1900 : men\n",
      "paris-1900 : women\n",
      "paris-1900 :women // request code:404\n",
      "athens-1896 : men\n",
      "done with : athens-1896 : men\n",
      "athens-1896 : women\n",
      "athens-1896 :women // request code:404\n"
     ]
    }
   ],
   "source": [
    "for i in range(len(olympics)):\n",
    "    for j in range(len(gender)):\n",
    "        oly = olympics[i]\n",
    "        gen = gender[j]\n",
    "        print(oly + \" : \" + gen)\n",
    "        url = f'https://olympics.com/en/olympic-games/{oly}/results/athletics/marathon-{gen}'\n",
    "        r = requests.get(url)\n",
    "        if r.status_code == 200:\n",
    "            soup = BeautifulSoup(r.text, 'html.parser')\n",
    "\n",
    "            result = soup.find(class_='styles__ResultTableWrapper-sc-1i210af-1 erbGgI')\n",
    "            results = result.find_all(class_=\"styles__SingleResultRow-sc-1rri9r-0 fbTozl\")\n",
    "\n",
    "            rank = []\n",
    "            country = []\n",
    "            name = []\n",
    "            time = []\n",
    "            notes = []\n",
    "\n",
    "            for s in range(len(results)):\n",
    "                rank.append(results[s].find(class_=\"styles__MedalWrapper-sc-1rri9r-1 iyrfTM\").get_text())\n",
    "                country.append(results[s].find(class_=\"styles__FlagWithLabelWrapper-sc-1rri9r-2 gNvGrN\").get_text())\n",
    "                name.append(results[s].find(class_=\"styles__AthleteBlock-sc-1rri9r-6 iGWpjK\").get_text())\n",
    "                try:\n",
    "                    time.append(results[s].find(class_=\"styles__ResultInfoWrapper-sc-1rri9r-3 kQntuy\").find_all('span')[0].find_all('span')[1].get_text())\n",
    "                except AttributeError:\n",
    "                    time.append('None')\n",
    "                notes.append(results[s].find(class_=\"styles__NotesInfoWrapper-sc-1rri9r-4 bQGXkP\").get_text()[6:])\n",
    "\n",
    "            year = [oly for k in range(len(results))]\n",
    "            gender_df = [gen for k in range(len(results))]\n",
    "            data = pd.DataFrame({'year': year, 'gender':gender_df, 'rank':rank, 'country': country, 'name':name, 'time':time, 'notes':notes})\n",
    "            df = pd.concat([df, data])\n",
    "                \n",
    "            print(\"done with : \" + oly + \" : \" + gen)\n",
    "        else:\n",
    "            print(oly + \" :\" + gen + ' // request code:' + str(r.status_code))"
   ]
  },
  {
   "cell_type": "code",
   "execution_count": 45,
   "metadata": {},
   "outputs": [],
   "source": [
    "df.to_csv('data/olympic_marathon_results.csv')"
   ]
  },
  {
   "cell_type": "code",
   "execution_count": 18,
   "metadata": {},
   "outputs": [],
   "source": [
    "# olympic - temperature\n",
    "\n",
    "url = f'https://olympstats.com/2019/10/25/tokyo-2020-how-hot-is-it/'\n",
    "r = requests.get(url)\n",
    "soup = BeautifulSoup(r.text, 'html.parser')\n",
    "\n",
    "tables = soup.find_all(class_='table-responsive')"
   ]
  },
  {
   "cell_type": "code",
   "execution_count": 21,
   "metadata": {},
   "outputs": [],
   "source": [
    "year = []\n",
    "city = []\n",
    "noc = []\n",
    "omaht = []\n",
    "ommht = []\n",
    "ommt = []\n",
    "ommlt = []\n",
    "omalt = []\n",
    "\n",
    "\n",
    "trs = tables[0].find_all('tr')\n",
    "\n",
    "for tr in trs[1:]:\n",
    "    tds = tr.find_all('td')\n",
    "    year.append(tds[0].get_text())\n",
    "    city.append(tds[1].get_text())\n",
    "    noc.append(tds[2].get_text())\n",
    "    omaht.append(tds[3].get_text())\n",
    "    ommht.append(tds[4].get_text())\n",
    "    ommt.append(tds[5].get_text())\n",
    "    ommlt.append(tds[6].get_text())\n",
    "    omalt.append(tds[7].get_text())"
   ]
  },
  {
   "cell_type": "code",
   "execution_count": 23,
   "metadata": {},
   "outputs": [],
   "source": [
    "oly_tem = pd.DataFrame({'year':year , 'city': city, 'country': noc, 'omaht':omaht, 'ommht':ommht, 'ommt':ommt,  'ommlt':ommlt, 'omalt':omalt})"
   ]
  },
  {
   "cell_type": "code",
   "execution_count": 25,
   "metadata": {},
   "outputs": [],
   "source": [
    "oly_tem.to_csv('olympics_temperature.csv')"
   ]
  },
  {
   "cell_type": "code",
   "execution_count": 26,
   "metadata": {},
   "outputs": [],
   "source": [
    "year = []\n",
    "gender = []\n",
    "event = []\n",
    "date = []\n",
    "time = []\n",
    "\n",
    "\n",
    "trs = tables[2].find_all('tr')\n",
    "\n",
    "for tr in trs[1:]:\n",
    "    tds = tr.find_all('td')\n",
    "    year.append(tds[0].get_text())\n",
    "    gender.append(tds[1].get_text())\n",
    "    event.append(tds[2].get_text())\n",
    "    date.append(tds[3].get_text())\n",
    "    time.append(tds[4].get_text())"
   ]
  },
  {
   "cell_type": "code",
   "execution_count": 28,
   "metadata": {},
   "outputs": [],
   "source": [
    "oly_time = pd.DataFrame({'year':year , 'gender': gender, 'event': event, 'date':date, 'time':time})"
   ]
  },
  {
   "cell_type": "code",
   "execution_count": 29,
   "metadata": {},
   "outputs": [],
   "source": [
    "oly_time.to_csv('olympics_marathon_time.csv')"
   ]
  },
  {
   "cell_type": "code",
   "execution_count": 74,
   "metadata": {},
   "outputs": [],
   "source": [
    "from selenium import webdriver\n",
    "from time import sleep\n",
    "from selenium.webdriver.common.by import By\n",
    "from selenium.webdriver.support.ui import Select\n",
    "from selenium.webdriver.support.ui import WebDriverWait\n",
    "from selenium.webdriver.support import expected_conditions as EC\n",
    "\n",
    "#year = ['2010', '2011', '2012', '2013', '2014', '2015', '2016' ,'2017', '2018']\n",
    "year = [  '2013']\n",
    "#gen = ['M', 'W']\n",
    "gen = ['W']\n",
    "\n",
    "driver = webdriver.Chrome('chromedriver')\n",
    "driver.implicitly_wait(1)\n",
    "\n",
    "\n",
    "for y in year:\n",
    "    for g in gen:\n",
    "\n",
    "        driver.get('https://chicago-history.r.mikatiming.com/2018/?lang=EN_CAP&pidp=leaderboard')\n",
    "\n",
    "        Select(driver.find_element_by_xpath('//*[@id=\"default-lists-event_main_group\"]')).select_by_value(y) #year\n",
    "        sleep(1)\n",
    "        Select(driver.find_element_by_xpath('//*[@id=\"default-lists-event\"]')).select_by_index(0) #event\n",
    "        sleep(1)\n",
    "        Select(driver.find_element_by_xpath('//*[@id=\"default-lists-sex\"]')).select_by_value(g) #gender\n",
    "        sleep(1)\n",
    "        Select(driver.find_element_by_xpath('//*[@id=\"default-lists-age_class\"]')).select_by_value('%') #age group\n",
    "        sleep(1)\n",
    "        Select(driver.find_element_by_xpath('//*[@id=\"default-num_results\"]')).select_by_value('1000') #results/page\n",
    "\n",
    "\n",
    "        driver.find_element_by_xpath('//*[@id=\"default-submit\"]').click() #show results\n",
    "\n",
    "        html = driver.page_source\n",
    "        soup = BeautifulSoup(html,\"html.parser\")\n",
    "\n",
    "        place = []\n",
    "        place_gender = []\n",
    "        name = []\n",
    "        city = []\n",
    "        bib = []\n",
    "        division = []\n",
    "        half = []\n",
    "        finish = []\n",
    "\n",
    "\n",
    "        athlete_list = soup.find_all(class_='list-active list-group-item row')\n",
    "\n",
    "        for i in range(len(athlete_list)):\n",
    "            athlete = athlete_list[i]\n",
    "\n",
    "            place.append(athlete.find(class_=\"list-field type-place place-secondary hidden-xs numeric\").get_text())\n",
    "            place_gender.append(athlete.find(class_=\"list-field type-place place-primary numeric\").get_text())\n",
    "            name.append(athlete.find(class_=\"list-field type-fullname\").get_text())\n",
    "            city.append(athlete.find(class_=\"list-field type-eval\").get_text().replace('City, State', ''))\n",
    "            bib.append(athlete.find(class_=\"list-field type-field\").get_text().replace('BIB', ''))\n",
    "            division.append(athlete.find(class_=\"list-field type-age_class\").get_text().replace('Division', ''))\n",
    "            half.append(athlete.find_all(class_=\"list-field type-time\")[0].get_text().replace('HALF', ''))\n",
    "            finish.append(athlete.find_all(class_=\"list-field type-time\")[1].get_text().replace('Finish', ''))\n",
    "\n",
    "\n",
    "        athlete_list_2 = soup.find_all(class_='list-group-item row')\n",
    "\n",
    "        for i in range(len(athlete_list_2)):\n",
    "            athlete = athlete_list_2[i]\n",
    "\n",
    "            place.append(athlete.find(class_=\"list-field type-place place-secondary hidden-xs numeric\").get_text())\n",
    "            place_gender.append(athlete.find(class_=\"list-field type-place place-primary numeric\").get_text())\n",
    "            name.append(athlete.find(class_=\"list-field type-fullname\").get_text())\n",
    "            city.append(athlete.find(class_=\"list-field type-eval\").get_text().replace('City, State', ''))\n",
    "            bib.append(athlete.find(class_=\"list-field type-field\").get_text().replace('BIB', ''))\n",
    "            division.append(athlete.find(class_=\"list-field type-age_class\").get_text().replace('Division', ''))\n",
    "            half.append(athlete.find_all(class_=\"list-field type-time\")[0].get_text().replace('HALF', ''))\n",
    "            finish.append(athlete.find_all(class_=\"list-field type-time\")[1].get_text().replace('Finish', ''))\n",
    "\n",
    "        df = pd.DataFrame({'place':place , 'place_gender': place_gender, 'name':name, 'city': city, 'bib':bib, 'division':division, 'half':half,  'finish':finish})\n",
    "        df.to_csv('data/chicago_marathon/' + str(y) + '_' + str(g) + '.csv')\n",
    "        \n",
    "        driver.back()"
   ]
  },
  {
   "cell_type": "code",
   "execution_count": 148,
   "metadata": {},
   "outputs": [],
   "source": [
    "year = ['2011', '2012', '2013', '2014', '2015', '2016', '2017', '2018']\n",
    "gen = ['M', 'W']\n",
    "\n",
    "for y in year:\n",
    "    for g in gen:\n",
    "        df = pd.read_csv('data/chicago_marathon/' + str(y) + '_' + str(g) + '.csv')\n",
    "\n",
    "        df['year'] = y\n",
    "        df['gender'] = g\n",
    "\n",
    "        if 'half' not in df.columns:\n",
    "            df['half'] = None\n",
    "\n",
    "        for i in range(len(df)):\n",
    "            if type(df.loc[i, 'bib']) == str:\n",
    "                df.loc[i, 'bib'] = df.loc[i, 'bib'].replace('??', '')\n",
    "            if type(df.loc[i, 'half']) == str:\n",
    "                df.loc[i, 'half'] = df.loc[i, 'half'].replace('??', '')\n",
    "            if type(df.loc[i, 'finish']) == str:\n",
    "                df.loc[i, 'finish'] = df.loc[i, 'finish'].replace('??', '')\n",
    "\n",
    "        df = df[['year', 'gender', 'place', 'place_gender', 'name', 'city', 'bib', 'division', 'half', 'finish']]\n",
    "        df.to_csv('data/chicago_marathon/' + str(y) + '_' + str(g) + '.csv')"
   ]
  },
  {
   "cell_type": "code",
   "execution_count": null,
   "metadata": {},
   "outputs": [],
   "source": []
  },
  {
   "cell_type": "code",
   "execution_count": null,
   "metadata": {},
   "outputs": [],
   "source": []
  },
  {
   "cell_type": "code",
   "execution_count": null,
   "metadata": {},
   "outputs": [],
   "source": []
  },
  {
   "cell_type": "code",
   "execution_count": null,
   "metadata": {},
   "outputs": [],
   "source": []
  },
  {
   "cell_type": "markdown",
   "metadata": {},
   "source": [
    " # 보스톤 마라톤 대회 결과 데이터 수집    \n",
    "\n",
    "https://registration.baa.org/2012/cf/Media/iframe_ResultsSearch.cfm?mode=entry   \n",
    "\n",
    "https://github.com/adrian3/Boston-Marathon-Data-Project   \n",
    "\n",
    "# worldbank climate api - wbpy\n",
    "https://wbpy.readthedocs.io/en/latest/climate.html"
   ]
  },
  {
   "cell_type": "code",
   "execution_count": 36,
   "metadata": {},
   "outputs": [
    {
     "data": {
      "text/plain": [
       "{'pr': 'Precipitation (rainfall and assumed water equivalent), in millimeters',\n",
       " 'tas': 'Temperature, in degrees Celsius'}"
      ]
     },
     "execution_count": 36,
     "metadata": {},
     "output_type": "execute_result"
    }
   ],
   "source": [
    "import wbpy\n",
    "from pprint import pprint\n",
    "\n",
    "api = wbpy.ClimateAPI()\n",
    "api.ARG_DEFINITIONS['instrumental_types']"
   ]
  },
  {
   "cell_type": "code",
   "execution_count": 50,
   "metadata": {},
   "outputs": [
    {
     "name": "stdout",
     "output_type": "stream",
     "text": [
      "{'FR': {'1900': 9.960913,\n",
      "        '1910': 10.232533,\n",
      "        '1920': 10.585817,\n",
      "        '1930': 10.553987,\n",
      "        '1940': 10.79595,\n",
      "        '1950': 10.644045,\n",
      "        '1960': 10.429388,\n",
      "        '1970': 10.499796,\n",
      "        '1980': 10.747611,\n",
      "        '1990': 11.387872,\n",
      "        '2000': 11.643222,\n",
      "        '2010': 11.41675}}\n"
     ]
    }
   ],
   "source": [
    "iso_and_basin_codes = [\"FR\"] #locations : a list of API location codes - either ISO alpha-2 or alpha-3 country codes, or basin ID numbers\n",
    "data_types = ['pr', 'tas'] #precipitation or temperature\n",
    "intervals = ['year', 'month', 'decade']\n",
    "\n",
    "\n",
    "dataset = api.get_instrumental(data_type = 'tas', interval='decade', locations=iso_and_basin_codes)\n",
    "pprint(dataset.as_dict())"
   ]
  }
 ],
 "metadata": {
  "kernelspec": {
   "display_name": "Python 3",
   "language": "python",
   "name": "python3"
  },
  "language_info": {
   "codemirror_mode": {
    "name": "ipython",
    "version": 3
   },
   "file_extension": ".py",
   "mimetype": "text/x-python",
   "name": "python",
   "nbconvert_exporter": "python",
   "pygments_lexer": "ipython3",
   "version": "3.8.3"
  }
 },
 "nbformat": 4,
 "nbformat_minor": 4
}
