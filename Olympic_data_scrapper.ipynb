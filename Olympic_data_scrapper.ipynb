{
 "cells": [
  {
   "cell_type": "code",
   "execution_count": 14,
   "metadata": {},
   "outputs": [],
   "source": [
    "import requests\n",
    "import pandas as pd\n",
    "import numpy as np\n",
    "\n",
    "import time\n",
    "import sys\n",
    "import requests\n",
    "from bs4 import BeautifulSoup"
   ]
  },
  {
   "cell_type": "code",
   "execution_count": 15,
   "metadata": {},
   "outputs": [
    {
     "data": {
      "text/plain": [
       "2700"
      ]
     },
     "execution_count": 15,
     "metadata": {},
     "output_type": "execute_result"
    }
   ],
   "source": [
    "9 * 300"
   ]
  },
  {
   "cell_type": "code",
   "execution_count": 42,
   "metadata": {},
   "outputs": [],
   "source": [
    "olympics = ['rio-2016', 'london-2012', 'beijing-2008', 'athens-2004', 'sydney-2000', 'atlanta-1996', 'barcelona-1992', 'seoul-1988', 'los-angeles-1984', 'moscow-1980',\n",
    "           'montreal-1976', 'munich-1972', 'mexico-city-1968', 'tokyo-1964', 'roma-1960', 'melbourne-1956', 'helsinki-1952', 'london-1948', 'berlin-1936', 'los-angeles-1932',\n",
    "           'amsterdam-1928', 'paris-1924', 'antwerp-1920', 'stockholm-1912', 'london-1908', 'st-louis-1904', 'paris-1900', 'athens-1896']\n",
    "\n",
    "gender = ['men', 'women']"
   ]
  },
  {
   "cell_type": "code",
   "execution_count": 43,
   "metadata": {},
   "outputs": [],
   "source": [
    "df = pd.DataFrame()"
   ]
  },
  {
   "cell_type": "code",
   "execution_count": 44,
   "metadata": {},
   "outputs": [
    {
     "name": "stdout",
     "output_type": "stream",
     "text": [
      "rio-2016 : men\n",
      "done with : rio-2016 : men\n",
      "rio-2016 : women\n",
      "done with : rio-2016 : women\n",
      "london-2012 : men\n",
      "done with : london-2012 : men\n",
      "london-2012 : women\n",
      "done with : london-2012 : women\n",
      "beijing-2008 : men\n",
      "done with : beijing-2008 : men\n",
      "beijing-2008 : women\n",
      "done with : beijing-2008 : women\n",
      "athens-2004 : men\n",
      "done with : athens-2004 : men\n",
      "athens-2004 : women\n",
      "done with : athens-2004 : women\n",
      "sydney-2000 : men\n",
      "done with : sydney-2000 : men\n",
      "sydney-2000 : women\n",
      "done with : sydney-2000 : women\n",
      "atlanta-1996 : men\n",
      "done with : atlanta-1996 : men\n",
      "atlanta-1996 : women\n",
      "done with : atlanta-1996 : women\n",
      "barcelona-1992 : men\n",
      "done with : barcelona-1992 : men\n",
      "barcelona-1992 : women\n",
      "done with : barcelona-1992 : women\n",
      "seoul-1988 : men\n",
      "done with : seoul-1988 : men\n",
      "seoul-1988 : women\n",
      "done with : seoul-1988 : women\n",
      "los-angeles-1984 : men\n",
      "done with : los-angeles-1984 : men\n",
      "los-angeles-1984 : women\n",
      "done with : los-angeles-1984 : women\n",
      "moscow-1980 : men\n",
      "done with : moscow-1980 : men\n",
      "moscow-1980 : women\n",
      "moscow-1980 :women // request code:404\n",
      "montreal-1976 : men\n",
      "done with : montreal-1976 : men\n",
      "montreal-1976 : women\n",
      "montreal-1976 :women // request code:404\n",
      "munich-1972 : men\n",
      "done with : munich-1972 : men\n",
      "munich-1972 : women\n",
      "munich-1972 :women // request code:404\n",
      "mexico-city-1968 : men\n",
      "done with : mexico-city-1968 : men\n",
      "mexico-city-1968 : women\n",
      "mexico-city-1968 :women // request code:404\n",
      "tokyo-1964 : men\n",
      "done with : tokyo-1964 : men\n",
      "tokyo-1964 : women\n",
      "tokyo-1964 :women // request code:404\n",
      "roma-1960 : men\n",
      "roma-1960 :men // request code:404\n",
      "roma-1960 : women\n",
      "roma-1960 :women // request code:404\n",
      "melbourne-1956 : men\n",
      "done with : melbourne-1956 : men\n",
      "melbourne-1956 : women\n",
      "melbourne-1956 :women // request code:404\n",
      "helsinki-1952 : men\n",
      "done with : helsinki-1952 : men\n",
      "helsinki-1952 : women\n",
      "helsinki-1952 :women // request code:404\n",
      "london-1948 : men\n",
      "done with : london-1948 : men\n",
      "london-1948 : women\n",
      "london-1948 :women // request code:404\n",
      "berlin-1936 : men\n",
      "done with : berlin-1936 : men\n",
      "berlin-1936 : women\n",
      "berlin-1936 :women // request code:404\n",
      "los-angeles-1932 : men\n",
      "done with : los-angeles-1932 : men\n",
      "los-angeles-1932 : women\n",
      "los-angeles-1932 :women // request code:404\n",
      "amsterdam-1928 : men\n",
      "done with : amsterdam-1928 : men\n",
      "amsterdam-1928 : women\n",
      "amsterdam-1928 :women // request code:404\n",
      "paris-1924 : men\n",
      "done with : paris-1924 : men\n",
      "paris-1924 : women\n",
      "paris-1924 :women // request code:404\n",
      "antwerp-1920 : men\n",
      "done with : antwerp-1920 : men\n",
      "antwerp-1920 : women\n",
      "antwerp-1920 :women // request code:404\n",
      "stockholm-1912 : men\n",
      "done with : stockholm-1912 : men\n",
      "stockholm-1912 : women\n",
      "stockholm-1912 :women // request code:404\n",
      "london-1908 : men\n",
      "done with : london-1908 : men\n",
      "london-1908 : women\n",
      "london-1908 :women // request code:404\n",
      "st-louis-1904 : men\n",
      "done with : st-louis-1904 : men\n",
      "st-louis-1904 : women\n",
      "st-louis-1904 :women // request code:404\n",
      "paris-1900 : men\n",
      "done with : paris-1900 : men\n",
      "paris-1900 : women\n",
      "paris-1900 :women // request code:404\n",
      "athens-1896 : men\n",
      "done with : athens-1896 : men\n",
      "athens-1896 : women\n",
      "athens-1896 :women // request code:404\n"
     ]
    }
   ],
   "source": [
    "for i in range(len(olympics)):\n",
    "    for j in range(len(gender)):\n",
    "        oly = olympics[i]\n",
    "        gen = gender[j]\n",
    "        print(oly + \" : \" + gen)\n",
    "        url = f'https://olympics.com/en/olympic-games/{oly}/results/athletics/marathon-{gen}'\n",
    "        r = requests.get(url)\n",
    "        if r.status_code == 200:\n",
    "            soup = BeautifulSoup(r.text, 'html.parser')\n",
    "\n",
    "            result = soup.find(class_='styles__ResultTableWrapper-sc-1i210af-1 erbGgI')\n",
    "            results = result.find_all(class_=\"styles__SingleResultRow-sc-1rri9r-0 fbTozl\")\n",
    "\n",
    "            rank = []\n",
    "            country = []\n",
    "            name = []\n",
    "            time = []\n",
    "            notes = []\n",
    "\n",
    "            for s in range(len(results)):\n",
    "                rank.append(results[s].find(class_=\"styles__MedalWrapper-sc-1rri9r-1 iyrfTM\").get_text())\n",
    "                country.append(results[s].find(class_=\"styles__FlagWithLabelWrapper-sc-1rri9r-2 gNvGrN\").get_text())\n",
    "                name.append(results[s].find(class_=\"styles__AthleteBlock-sc-1rri9r-6 iGWpjK\").get_text())\n",
    "                try:\n",
    "                    time.append(results[s].find(class_=\"styles__ResultInfoWrapper-sc-1rri9r-3 kQntuy\").find_all('span')[0].find_all('span')[1].get_text())\n",
    "                except AttributeError:\n",
    "                    time.append('None')\n",
    "                notes.append(results[s].find(class_=\"styles__NotesInfoWrapper-sc-1rri9r-4 bQGXkP\").get_text()[6:])\n",
    "\n",
    "            year = [oly for k in range(len(results))]\n",
    "            gender_df = [gen for k in range(len(results))]\n",
    "            data = pd.DataFrame({'year': year, 'gender':gender_df, 'rank':rank, 'country': country, 'name':name, 'time':time, 'notes':notes})\n",
    "            df = pd.concat([df, data])\n",
    "                \n",
    "            print(\"done with : \" + oly + \" : \" + gen)\n",
    "        else:\n",
    "            print(oly + \" :\" + gen + ' // request code:' + str(r.status_code))"
   ]
  },
  {
   "cell_type": "code",
   "execution_count": 45,
   "metadata": {},
   "outputs": [],
   "source": [
    "df.to_csv('data/olympic_marathon_results.csv')"
   ]
  },
  {
   "cell_type": "code",
   "execution_count": null,
   "metadata": {},
   "outputs": [],
   "source": [
    "# olympic - temperature\n",
    "\n",
    "\n",
    "url = f'https://olympstats.com/2019/10/25/tokyo-2020-how-hot-is-it/'\n",
    "r = requests.get(url)\n",
    "soup = BeautifulSoup(r.text, 'html.parser')\n",
    "\n",
    "tables = soup.find_all(class_='table-responsive')\n"
   ]
  },
  {
   "cell_type": "code",
   "execution_count": null,
   "metadata": {},
   "outputs": [],
   "source": [
    "year = []\n",
    "city = []\n",
    "noc = []\n",
    "ommht = []\n",
    "ommt = []\n",
    "ommlt = []\n",
    "\n",
    "\n",
    "trs = tables[0].find_all('tr')\n",
    "\n",
    "for tr in trs:\n",
    "    tds = tr.find_all('td')\n",
    "    "
   ]
  }
 ],
 "metadata": {
  "kernelspec": {
   "display_name": "Python 3",
   "language": "python",
   "name": "python3"
  },
  "language_info": {
   "codemirror_mode": {
    "name": "ipython",
    "version": 3
   },
   "file_extension": ".py",
   "mimetype": "text/x-python",
   "name": "python",
   "nbconvert_exporter": "python",
   "pygments_lexer": "ipython3",
   "version": "3.8.8"
  }
 },
 "nbformat": 4,
 "nbformat_minor": 4
}
