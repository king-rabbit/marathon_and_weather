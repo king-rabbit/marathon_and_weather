{
 "cells": [
  {
   "cell_type": "code",
   "execution_count": 1,
   "metadata": {},
   "outputs": [],
   "source": [
    "import requests\n",
    "import pandas as pd\n",
    "import numpy as np\n",
    "import time\n",
    "import sys\n",
    "import requests\n",
    "from bs4 import BeautifulSoup"
   ]
  },
  {
   "cell_type": "code",
   "execution_count": 15,
   "metadata": {},
   "outputs": [],
   "source": [
    "olympics = ['rio-2016', 'london-2012', 'beijing-2008', 'athens-2004', 'sydney-2000', 'atlanta-1996', 'barcelona-1992', 'seoul-1988', 'los-angeles-1984', 'moscow-1980',\n",
    "           'montreal-1976', 'munich-1972', 'mexico-city-1968', 'tokyo-1964', 'roma-1960', 'melbourne-1956', 'helsinki-1952', 'london-1948', 'berlin-1936', 'los-angeles-1932',\n",
    "           'amsterdam-1928', 'paris-1924', 'antwerp-1920', 'stockholm-1912', 'london-1908', 'st-louis-1904', 'paris-1900', 'athens-1896']\n",
    "\n",
    "gender = ['men', 'women']"
   ]
  },
  {
   "cell_type": "code",
   "execution_count": 16,
   "metadata": {},
   "outputs": [],
   "source": [
    "df = pd.DataFrame()"
   ]
  },
  {
   "cell_type": "code",
   "execution_count": 17,
   "metadata": {},
   "outputs": [
    {
     "ename": "AttributeError",
     "evalue": "'NoneType' object has no attribute 'find_all'",
     "output_type": "error",
     "traceback": [
      "\u001b[1;31m---------------------------------------------------------------------------\u001b[0m",
      "\u001b[1;31mAttributeError\u001b[0m                            Traceback (most recent call last)",
      "\u001b[1;32m<ipython-input-17-540e4b1c3d96>\u001b[0m in \u001b[0;36m<module>\u001b[1;34m\u001b[0m\n\u001b[0;32m     11\u001b[0m \u001b[1;33m\u001b[0m\u001b[0m\n\u001b[0;32m     12\u001b[0m                 \u001b[0mresult\u001b[0m \u001b[1;33m=\u001b[0m \u001b[0msoup\u001b[0m\u001b[1;33m.\u001b[0m\u001b[0mfind\u001b[0m\u001b[1;33m(\u001b[0m\u001b[0mclass_\u001b[0m\u001b[1;33m=\u001b[0m\u001b[1;34m'styles__ResultTableWrapper-sc-1i210af-1 erbGgI'\u001b[0m\u001b[1;33m)\u001b[0m\u001b[1;33m\u001b[0m\u001b[1;33m\u001b[0m\u001b[0m\n\u001b[1;32m---> 13\u001b[1;33m                 \u001b[0mresults\u001b[0m \u001b[1;33m=\u001b[0m \u001b[0mresult\u001b[0m\u001b[1;33m.\u001b[0m\u001b[0mfind_all\u001b[0m\u001b[1;33m(\u001b[0m\u001b[0mclass_\u001b[0m\u001b[1;33m=\u001b[0m\u001b[1;34m\"styles__SingleResultRow-sc-1rri9r-0 fbTozl\"\u001b[0m\u001b[1;33m)\u001b[0m\u001b[1;33m\u001b[0m\u001b[1;33m\u001b[0m\u001b[0m\n\u001b[0m\u001b[0;32m     14\u001b[0m \u001b[1;33m\u001b[0m\u001b[0m\n\u001b[0;32m     15\u001b[0m                 \u001b[0mrank\u001b[0m \u001b[1;33m=\u001b[0m \u001b[1;33m[\u001b[0m\u001b[1;33m]\u001b[0m\u001b[1;33m\u001b[0m\u001b[1;33m\u001b[0m\u001b[0m\n",
      "\u001b[1;31mAttributeError\u001b[0m: 'NoneType' object has no attribute 'find_all'"
     ]
    }
   ],
   "source": [
    "for oly in olympics:\n",
    "    for gen in gender:\n",
    "        try: \n",
    "            url = f'https://olympics.com/en/olympic-games/{oly}/results/athletics/marathon-{gen}'\n",
    "        except:\n",
    "            print(oly + ': men-marathon-only')\n",
    "        else:\n",
    "            r = requests.get(url)\n",
    "            if r.status_code == 200:\n",
    "                soup = BeautifulSoup(r.text, 'html.parser')\n",
    "\n",
    "                result = soup.find(class_='styles__ResultTableWrapper-sc-1i210af-1 erbGgI')\n",
    "                results = result.find_all(class_=\"styles__SingleResultRow-sc-1rri9r-0 fbTozl\")\n",
    "\n",
    "                rank = []\n",
    "                country = []\n",
    "                name = []\n",
    "                time = []\n",
    "                notes = []\n",
    "\n",
    "                for i in range(len(results)):\n",
    "                    rank.append(results[i].find(class_=\"styles__MedalWrapper-sc-1rri9r-1 iyrfTM\").get_text())\n",
    "                    country.append(results[i].find(class_=\"styles__FlagWithLabelWrapper-sc-1rri9r-2 gNvGrN\").get_text())\n",
    "                    name.append(results[i].find(class_=\"styles__AthleteBlock-sc-1rri9r-6 iGWpjK\").get_text())\n",
    "                    try:\n",
    "                        time.append(results[i].find(class_=\"styles__ResultInfoWrapper-sc-1rri9r-3 kQntuy\").find_all('span')[0].find_all('span')[1].get_text())\n",
    "                    except AttributeError:\n",
    "                        time.append('None')\n",
    "                    notes.append(results[i].find(class_=\"styles__NotesInfoWrapper-sc-1rri9r-4 bQGXkP\").get_text()[6:])\n",
    "\n",
    "                year = [oly for i in range(len(results))]\n",
    "                gender = [gen for i in range(len(results))]\n",
    "                data = pd.DataFrame({'year': year, 'gender':gender, 'rank':rank, 'country': country, 'name':name, 'time':time, 'notes':notes})\n",
    "                df = pd.concat([df, data])\n",
    "            else:\n",
    "                print(oly + 'r:' + str(r.status_code))"
   ]
  },
  {
   "cell_type": "code",
   "execution_count": null,
   "metadata": {},
   "outputs": [],
   "source": [
    "# olympic - temperature\n",
    "\n",
    "\n",
    "url = f'https://olympstats.com/2019/10/25/tokyo-2020-how-hot-is-it/'\n",
    "r = requests.get(url)\n",
    "soup = BeautifulSoup(r.text, 'html.parser')\n",
    "\n",
    "tables = soup.find_all(class_='table-responsive')\n"
   ]
  },
  {
   "cell_type": "code",
   "execution_count": null,
   "metadata": {},
   "outputs": [],
   "source": [
    "year = []\n",
    "city = []\n",
    "noc = []\n",
    "ommht = []\n",
    "ommt = []\n",
    "ommlt = []\n",
    "\n",
    "\n",
    "trs = tables[0].find_all('tr')\n",
    "\n",
    "for tr in trs:\n",
    "    tds = tr.find_all('td')\n",
    "    "
   ]
  }
 ],
 "metadata": {
  "kernelspec": {
   "display_name": "Python 3",
   "language": "python",
   "name": "python3"
  },
  "language_info": {
   "codemirror_mode": {
    "name": "ipython",
    "version": 3
   },
   "file_extension": ".py",
   "mimetype": "text/x-python",
   "name": "python",
   "nbconvert_exporter": "python",
   "pygments_lexer": "ipython3",
   "version": "3.8.3"
  }
 },
 "nbformat": 4,
 "nbformat_minor": 4
}
